{
 "cells": [
  {
   "cell_type": "code",
   "execution_count": null,
   "id": "86e00dea-3232-4582-94d6-27def4958079",
   "metadata": {},
   "outputs": [],
   "source": [
    "a=input()\n",
    "\n",
    "if isUpper(a):\n",
    "    print(\"A is a upper case character\")\n",
    "elif islower(a):\n",
    "    print(\"A is a lower case character\")\n",
    "elif a.isnumeric():\n",
    "    print(\"A is a number\")\n",
    "else:\n",
    "    print(\"A is a special character\")\n",
    "    "
   ]
  },
  {
   "cell_type": "code",
   "execution_count": 8,
   "id": "bdecad4f-035f-4691-905c-9b2781e4608a",
   "metadata": {},
   "outputs": [
    {
     "name": "stdin",
     "output_type": "stream",
     "text": [
      " abcd\n"
     ]
    },
    {
     "name": "stdout",
     "output_type": "stream",
     "text": [
      "Not palindrome\n"
     ]
    }
   ],
   "source": [
    "a=input()\n",
    "flag=0\n",
    "for i in range (0,int(len(a)/2)):\n",
    "    if a[i] != a[(i+1)*-1]:\n",
    "        flag=1\n",
    "        break\n",
    "if flag:\n",
    "    print(\"Not palindrome\")\n",
    "else:\n",
    "    print(\"palindrome\")"
   ]
  },
  {
   "cell_type": "code",
   "execution_count": 22,
   "id": "24196416-9fae-4d14-a008-7ce3d90b80f5",
   "metadata": {},
   "outputs": [
    {
     "name": "stdin",
     "output_type": "stream",
     "text": [
      " 6\n"
     ]
    },
    {
     "name": "stdout",
     "output_type": "stream",
     "text": [
      "not a prime\n"
     ]
    }
   ],
   "source": [
    "a=int(input())\n",
    "flag =0\n",
    "for x in range(2,int(n/2+1)):\n",
    "    if a%x==0:\n",
    "        flag=1\n",
    "        break\n",
    "if flag:\n",
    "    print(\"not a prime\")\n",
    "else:\n",
    "    print(\"is a prime\")"
   ]
  },
  {
   "cell_type": "markdown",
   "id": "5fc4a5ba-eb4d-4de6-8437-cecb1853791d",
   "metadata": {},
   "source": [
    "File Handelling\n",
    "\n"
   ]
  },
  {
   "cell_type": "code",
   "execution_count": 19,
   "id": "f38479c4-ab83-43e1-841d-ca90ced9ef8c",
   "metadata": {},
   "outputs": [
    {
     "ename": "NameError",
     "evalue": "name 'filename' is not defined",
     "output_type": "error",
     "traceback": [
      "\u001b[1;31m---------------------------------------------------------------------------\u001b[0m",
      "\u001b[1;31mNameError\u001b[0m                                 Traceback (most recent call last)",
      "Cell \u001b[1;32mIn[19], line 2\u001b[0m\n\u001b[0;32m      1\u001b[0m \u001b[38;5;28;01mif\u001b[39;00m \u001b[38;5;18m__name__\u001b[39m\u001b[38;5;241m==\u001b[39m\u001b[38;5;124m'\u001b[39m\u001b[38;5;124m__main__\u001b[39m\u001b[38;5;124m'\u001b[39m:\n\u001b[1;32m----> 2\u001b[0m     \u001b[43mfilename\u001b[49m \u001b[38;5;241m==\u001b[39m \u001b[38;5;124m\"\u001b[39m\u001b[38;5;124mexample.txt\u001b[39m\u001b[38;5;124m\"\u001b[39m\n\u001b[0;32m      3\u001b[0m     new_filename \u001b[38;5;241m=\u001b[39m \u001b[38;5;124m\"\u001b[39m\u001b[38;5;124mnew_example.txt\u001b[39m\u001b[38;5;124m\"\u001b[39m\n\u001b[0;32m      6\u001b[0m     create_file(filename)\n",
      "\u001b[1;31mNameError\u001b[0m: name 'filename' is not defined"
     ]
    }
   ],
   "source": [
    "if __name__=='__main__':\n",
    "    filename == \"example.txt\"\n",
    "    new_filename = \"new_example.txt\"\n",
    "\n",
    "\n",
    "    create_file(filename)\n",
    "    read_file(filename)\n",
    "    append_file(filename, \"This is some additional text.\\n\")\n",
    "    read_file(filename)\n",
    "    rename_file(filename, new_filename)\n",
    "    read_file(new_file)\n",
    "    #delete_file(new_filename)\n"
   ]
  },
  {
   "cell_type": "code",
   "execution_count": 3,
   "id": "07b32039-0658-4e8f-83ea-a3ee05f995c6",
   "metadata": {},
   "outputs": [],
   "source": [
    "#to create a file\n",
    "import os\n",
    "with open(\"file1.txt\",'w') as f:\n",
    "    f.write(\"This is first text in file\")\n",
    "    f.close()"
   ]
  },
  {
   "cell_type": "markdown",
   "id": "f803e538-ed82-4596-86c4-0de03595d811",
   "metadata": {},
   "source": [
    "to remove the file\n",
    "import os\n",
    "\n",
    "os.remove(\"file.txt\")"
   ]
  },
  {
   "cell_type": "code",
   "execution_count": 10,
   "id": "4f926566-214a-47f5-a384-3a061b65bbba",
   "metadata": {},
   "outputs": [
    {
     "name": "stdout",
     "output_type": "stream",
     "text": [
      "This\n",
      "111\n",
      "is\n",
      "111\n",
      "first\n",
      "111\n",
      "text\n",
      "111\n",
      "in\n",
      "111\n",
      "file\n",
      "111\n"
     ]
    }
   ],
   "source": [
    "import os\n",
    "\n",
    "with open(\"file1.txt\",'r') as f:\n",
    "    for a in f.read().split():\n",
    "        print(a)\n",
    "        print(\"111\")\n",
    "        f.close()"
   ]
  },
  {
   "cell_type": "code",
   "execution_count": 13,
   "id": "05822682-4932-45e1-900f-888a40eb111a",
   "metadata": {},
   "outputs": [
    {
     "name": "stdout",
     "output_type": "stream",
     "text": [
      "This is first text in file\n",
      "100\n"
     ]
    }
   ],
   "source": [
    "import os\n",
    "\n",
    "with open(\"file1.txt\",'r') as f:\n",
    "    for a in f.read().split(\"\\n\"):\n",
    "        print(a)\n",
    "        print(\"100\")\n",
    "        f.close()"
   ]
  },
  {
   "cell_type": "code",
   "execution_count": 4,
   "id": "1b8efe1d-eb44-4dd1-8c26-896ad37e48ca",
   "metadata": {},
   "outputs": [
    {
     "name": "stdout",
     "output_type": "stream",
     "text": [
      "\n",
      "\n"
     ]
    }
   ],
   "source": [
    "import os\n",
    "with open(\"file1.txt\",'w') as f:\n",
    "    f.write(\"This is second text in file\")\n",
    "    print(\"\\n\")\n",
    "    f.close()"
   ]
  },
  {
   "cell_type": "code",
   "execution_count": 11,
   "id": "eb27b8c2-58ff-4296-a792-0f5a73f54f23",
   "metadata": {},
   "outputs": [],
   "source": [
    "import os\n",
    "with open(\"file1.txt\",'r') as f:\n",
    "    a=f.read()\n",
    "    f.close()\n",
    "\n",
    "os.rename(\"file1.txt\",\"file2.txt\")\n"
   ]
  },
  {
   "cell_type": "code",
   "execution_count": null,
   "id": "71ebcdf3-254b-4eac-9c57-bb97b949d3b4",
   "metadata": {},
   "outputs": [],
   "source": []
  }
 ],
 "metadata": {
  "kernelspec": {
   "display_name": "Python 3 (ipykernel)",
   "language": "python",
   "name": "python3"
  },
  "language_info": {
   "codemirror_mode": {
    "name": "ipython",
    "version": 3
   },
   "file_extension": ".py",
   "mimetype": "text/x-python",
   "name": "python",
   "nbconvert_exporter": "python",
   "pygments_lexer": "ipython3",
   "version": "3.12.3"
  }
 },
 "nbformat": 4,
 "nbformat_minor": 5
}
