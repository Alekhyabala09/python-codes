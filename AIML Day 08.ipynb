{
 "cells": [
  {
   "cell_type": "code",
   "execution_count": 6,
   "id": "76a9cfc4-6455-4769-9eb6-d9ed9717db95",
   "metadata": {},
   "outputs": [
    {
     "name": "stdout",
     "output_type": "stream",
     "text": [
      "[1, 4, 5, 6, 7, 8, 9]\n"
     ]
    }
   ],
   "source": [
    "arr=[5,4,8,1,9,6,7] #bubble sort\n",
    "for i in range(0,len(arr)):\n",
    "    for j in range(0,len(arr)-1):\n",
    "        if arr[j]>arr[j+1]:\n",
    "           temp=arr[j]\n",
    "           arr[j]=arr[j+1]\n",
    "           arr[j+1]=temp\n",
    "\n",
    "print(arr)"
   ]
  },
  {
   "cell_type": "code",
   "execution_count": 7,
   "id": "3f914e5f-cf71-47da-b83e-188ff3a0e791",
   "metadata": {},
   "outputs": [
    {
     "name": "stdout",
     "output_type": "stream",
     "text": [
      "[1, 4, 5, 6, 7, 8, 9]\n"
     ]
    }
   ],
   "source": [
    "a=[3,7,3,9,2,6,0]  #insertion sort\n",
    "for i in range(1,len(arr)):\n",
    "    temp=arr[i]\n",
    "    j=i-1\n",
    "    while j>=0 and temp<arr[j]:\n",
    "        arr[j+1]=arr[j]\n",
    "        j -=1\n",
    "        arr[j+1]=temp\n",
    "print(arr)"
   ]
  },
  {
   "cell_type": "code",
   "execution_count": 8,
   "id": "0536e57a-f325-4d04-aca3-3d4600a1e00e",
   "metadata": {},
   "outputs": [
    {
     "name": "stdout",
     "output_type": "stream",
     "text": [
      "[1, 4, 5, 6, 7, 8, 9]\n"
     ]
    }
   ],
   "source": [
    "arr=[5,4,8,1,9,6,7]  #selection sort\n",
    "\n",
    "for i in range(0,len(arr)):\n",
    "    min_idx=i\n",
    "    for j in range(i+1,len(arr)):\n",
    "        if arr[min_idx]>arr[j]:\n",
    "            min_idx=j\n",
    "    temp=arr[i]\n",
    "    arr[i]=arr[min_idx]\n",
    "    arr[min_idx]=temp\n",
    "\n",
    "print(arr)\n",
    "            "
   ]
  },
  {
   "cell_type": "code",
   "execution_count": 12,
   "id": "498a01d7-06b5-492f-a232-5bbb9e950b9e",
   "metadata": {},
   "outputs": [
    {
     "name": "stdout",
     "output_type": "stream",
     "text": [
      "0\n",
      "1\n",
      "1\n",
      "3\n",
      "3\n",
      "3\n",
      "[2, 5, 6, 9, 3, 4]\n",
      "1\n",
      "1\n",
      "1\n",
      "4\n",
      "4\n",
      "[2, 3, 6, 9, 5, 4]\n",
      "2\n",
      "2\n",
      "4\n",
      "5\n",
      "[2, 3, 4, 9, 5, 6]\n",
      "3\n",
      "4\n",
      "4\n",
      "[2, 3, 4, 5, 9, 6]\n",
      "4\n",
      "5\n",
      "[2, 3, 4, 5, 6, 9]\n",
      "5\n",
      "[2, 3, 4, 5, 6, 9]\n",
      "[2, 3, 4, 5, 6, 9]\n"
     ]
    }
   ],
   "source": [
    "#selection sort\n",
    "arr=[9,5,6,2,3,4]\n",
    "for j in range(0,len(arr)):\n",
    "    a=j\n",
    "    for i in range(j,len(arr)):\n",
    "        if arr[i]<arr[a]:\n",
    "           a=i\n",
    "        print(a)\n",
    "    arr[a],arr[j]=arr[j],arr[a]\n",
    "    print(arr)\n",
    "\n",
    "print(arr)\n",
    "\n",
    "    \n",
    "        \n",
    "     "
   ]
  },
  {
   "cell_type": "code",
   "execution_count": 5,
   "id": "c5213163-1cf7-41c6-86f7-3193f2f4f21a",
   "metadata": {},
   "outputs": [
    {
     "name": "stdin",
     "output_type": "stream",
     "text": [
      " 47\n"
     ]
    },
    {
     "name": "stdout",
     "output_type": "stream",
     "text": [
      "Item not in the list\n",
      "low 0 high 16 mid 8\n",
      "low 0 high 7 mid 3\n",
      "low 4 high 7 mid 7\n",
      "element not found\n"
     ]
    }
   ],
   "source": [
    "L=[34,12,55,3,67,45,89,70,4,26,76,85,13,54,69,2]  #binary search\n",
    "L.sort()\n",
    "low=0\n",
    "high=len(L)\n",
    "src=int(input())\n",
    "try:\n",
    "    print(\"index of element is\",L.index(src))\n",
    "except:\n",
    "    print(\"Item not in the list\")\n",
    "Flag=0\n",
    "while low<high:\n",
    "    mid=int(low+high/2)\n",
    "    print(\"low\",low,\"high\",high,\"mid\",mid)\n",
    "    if src<L[mid]:\n",
    "       high=mid-1\n",
    "    elif src>L[mid]:\n",
    "       low=mid+1\n",
    "    else:\n",
    "       Flag=1\n",
    "       break;\n",
    "if Flag==1:\n",
    "   print(\"Element found at\",mid)\n",
    "else:\n",
    "   print(\"element not found\")\n",
    "\n"
   ]
  },
  {
   "cell_type": "code",
   "execution_count": 3,
   "id": "88b400b5-ddc7-4a47-9848-79effd13d2e5",
   "metadata": {},
   "outputs": [
    {
     "name": "stdin",
     "output_type": "stream",
     "text": [
      "enter the string this is (a) car\n"
     ]
    },
    {
     "name": "stdout",
     "output_type": "stream",
     "text": [
      "invalid string\n"
     ]
    }
   ],
   "source": [
    "#VALID STRING\n",
    "\n",
    "a=input(\"enter the string\")\n",
    "for a in range(0,len(a)):\n",
    "    if a=='(' and a==')':\n",
    "      print(\"string is valid\")\n",
    "    elif a=='[' and a==']':\n",
    "      print(\"string is valid\")\n",
    "    elif a=='{' and a=='}':\n",
    "       print(\"string is valid\")\n",
    "else:\n",
    "    print(\"invalid string\")\n",
    "\n"
   ]
  },
  {
   "cell_type": "code",
   "execution_count": 11,
   "id": "2a542f18-6c9a-4780-9292-64f1a3b720ec",
   "metadata": {},
   "outputs": [
    {
     "name": "stdin",
     "output_type": "stream",
     "text": [
      " this is ( car\n"
     ]
    },
    {
     "name": "stdout",
     "output_type": "stream",
     "text": [
      "invalid String\n"
     ]
    }
   ],
   "source": [
    "S=input()\n",
    "x=y=z=0\n",
    "for c in S:\n",
    "    match (c):\n",
    "        case '(':x+=1\n",
    "        case ')':x-=1\n",
    "        case '{':y+=1\n",
    "        case '}':y-=1\n",
    "        case '[':z+=1\n",
    "        case ']':z-=1\n",
    "        case _: continue\n",
    "\n",
    "if x+y+z == 0:\n",
    "    print(\"valid String\")\n",
    "else:\n",
    "    print(\"invalid String\")"
   ]
  },
  {
   "cell_type": "code",
   "execution_count": 22,
   "id": "17ada965-f83e-43c1-8c9b-f628bd4eef24",
   "metadata": {},
   "outputs": [
    {
     "name": "stdout",
     "output_type": "stream",
     "text": [
      "Item added to the stack\n",
      "Item added to the stack\n",
      "Item added to the stack\n",
      "Item removed from the stack\n",
      "[23, 35]\n",
      "Item added to the stack\n",
      "[23, 35, 1]\n"
     ]
    }
   ],
   "source": [
    "# STACK\n",
    "def add(E):\n",
    "    S.append(E)\n",
    "    print(\"Item added to the stack\")\n",
    "\n",
    "def delete():\n",
    "    S.pop()\n",
    "    print(\"Item removed from the stack\")\n",
    "\n",
    "S=[]\n",
    "add(23)\n",
    "add(35)\n",
    "add(8)\n",
    "\n",
    "delete()\n",
    "print(S)\n",
    "\n",
    "add(1)\n",
    "print(S)"
   ]
  },
  {
   "cell_type": "code",
   "execution_count": null,
   "id": "f7ba7f32-953a-4629-830f-85ec6c409be0",
   "metadata": {},
   "outputs": [],
   "source": [
    "# QUEUE\n",
    "\n",
    "def add\n",
    "        "
   ]
  },
  {
   "cell_type": "code",
   "execution_count": null,
   "id": "3312ce7c-c5aa-4840-bf42-5ae208746db0",
   "metadata": {},
   "outputs": [],
   "source": []
  },
  {
   "cell_type": "code",
   "execution_count": null,
   "id": "e85e4284-8875-429d-bb0e-420b357649ca",
   "metadata": {},
   "outputs": [],
   "source": []
  },
  {
   "cell_type": "code",
   "execution_count": null,
   "id": "033ee615-1068-4cf4-8353-0e836ed8400d",
   "metadata": {},
   "outputs": [],
   "source": []
  }
 ],
 "metadata": {
  "kernelspec": {
   "display_name": "Python 3 (ipykernel)",
   "language": "python",
   "name": "python3"
  },
  "language_info": {
   "codemirror_mode": {
    "name": "ipython",
    "version": 3
   },
   "file_extension": ".py",
   "mimetype": "text/x-python",
   "name": "python",
   "nbconvert_exporter": "python",
   "pygments_lexer": "ipython3",
   "version": "3.12.3"
  }
 },
 "nbformat": 4,
 "nbformat_minor": 5
}
