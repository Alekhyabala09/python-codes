{
 "cells": [
  {
   "cell_type": "code",
   "execution_count": 19,
   "id": "75ba0081-6f09-4f09-a547-b47f2724f704",
   "metadata": {},
   "outputs": [
    {
     "name": "stdout",
     "output_type": "stream",
     "text": [
      "1 --> 2 --> 3 --> 4 --> 5 -->\n"
     ]
    }
   ],
   "source": [
    "class node:\n",
    "    def __init__(self,value):\n",
    "        self.data=value\n",
    "        self.next=None\n",
    "\n",
    "Head = node(1)\n",
    "Head .next=node(2)\n",
    "Head.next.next=node(3)\n",
    "Head.next.next.next=node(4)\n",
    "Head.next.next.next.next=node(5)\n",
    "\n",
    "print(Head.data,\"-->\",\n",
    "Head.next.data,\"-->\",\n",
    "Head.next.next.data,\"-->\",\n",
    "Head.next.next.next.data,\"-->\",\n",
    "Head.next.next.next.next.data,\"-->\",)"
   ]
  },
  {
   "cell_type": "code",
   "execution_count": 20,
   "id": "4616fe91-2bd3-44d8-ab24-39a43b8fd2f0",
   "metadata": {},
   "outputs": [
    {
     "name": "stdin",
     "output_type": "stream",
     "text": [
      " 3\n"
     ]
    },
    {
     "name": "stdout",
     "output_type": "stream",
     "text": [
      "3\n"
     ]
    }
   ],
   "source": [
    "x=int(input())\n",
    "temp = node(x)\n",
    "temp.next = Head\n",
    "Head = temp\n",
    "\n",
    "print(Head.data)"
   ]
  },
  {
   "cell_type": "code",
   "execution_count": 21,
   "id": "457f70e5-ccce-4b57-afa2-b129d009e3dd",
   "metadata": {},
   "outputs": [
    {
     "name": "stdout",
     "output_type": "stream",
     "text": [
      "3 --> 1 --> 2 --> 3 --> 4 -->\n"
     ]
    }
   ],
   "source": [
    "print(Head.data,\"-->\",\n",
    "Head.next.data,\"-->\",\n",
    "Head.next.next.data,\"-->\",\n",
    "Head.next.next.next.data,\"-->\",\n",
    "Head.next.next.next.next.data,\"-->\",)"
   ]
  },
  {
   "cell_type": "code",
   "execution_count": 22,
   "id": "1e6e24ef-882e-4e35-9849-40436f9f5580",
   "metadata": {},
   "outputs": [
    {
     "name": "stdin",
     "output_type": "stream",
     "text": [
      " 9\n"
     ]
    }
   ],
   "source": [
    "x=int(input())\n",
    "temp=node(x)\n",
    "curr=Head\n",
    "\n",
    "if curr==None:\n",
    "    Head=temp\n",
    "\n",
    "else:\n",
    "    while curr.next !=None:\n",
    "        curr=curr.next\n",
    "    curr.next=temp\n",
    "    "
   ]
  },
  {
   "cell_type": "code",
   "execution_count": 24,
   "id": "78b6079b-33f9-41d8-8231-7e9606db20c3",
   "metadata": {},
   "outputs": [
    {
     "name": "stdout",
     "output_type": "stream",
     "text": [
      "3 --> 1 --> 2 --> 3 --> 4 --> 5 --> 9 --> "
     ]
    }
   ],
   "source": [
    "curr = Head\n",
    "\n",
    "while curr!=None:\n",
    "    print(curr.data,\"-->\", end=\" \")\n",
    "    curr=curr.next"
   ]
  },
  {
   "cell_type": "code",
   "execution_count": 38,
   "id": "0644b4d3-cf7b-4a8f-a5d9-8127d1b9dff0",
   "metadata": {},
   "outputs": [
    {
     "name": "stdin",
     "output_type": "stream",
     "text": [
      "Enter the Location value: 4\n",
      "Enter the val  8\n"
     ]
    }
   ],
   "source": [
    "# inserting at a mid\n",
    "\n",
    "L= int(input(\"Enter the Location value:\"))\n",
    "X= int(input(\"Enter the val \"))\n",
    "curr = Head\n",
    "while curr != None:\n",
    "    if(curr.data == L):\n",
    "       break\n",
    "    curr=curr.next\n",
    "    \n",
    "temp=node(x)\n",
    "temp.next=curr.next\n",
    "curr.next=temp\n",
    "    \n",
    "\n",
    "\n"
   ]
  },
  {
   "cell_type": "code",
   "execution_count": 39,
   "id": "b282ba11-3e4a-4b4f-9a2c-653072743d0e",
   "metadata": {},
   "outputs": [
    {
     "name": "stdout",
     "output_type": "stream",
     "text": [
      "3 -->\n",
      "4 -->\n",
      "4 -->\n",
      "4 -->\n",
      "4 -->\n",
      "4 -->\n",
      "1 -->\n",
      "2 -->\n",
      "3 -->\n",
      "4 -->\n",
      "4 -->\n",
      "5 -->\n",
      "9 -->\n"
     ]
    }
   ],
   "source": [
    "curr = Head\n",
    "\n",
    "while curr!=None:\n",
    "    print(curr.data,\"-->\",)\n",
    "    curr=curr.next"
   ]
  },
  {
   "cell_type": "code",
   "execution_count": 41,
   "id": "d2454b6e-8ab1-46eb-b409-121ca2593048",
   "metadata": {},
   "outputs": [],
   "source": [
    "# front delete\n",
    "temp=node(x)\n",
    "if Head==None:\n",
    "    print(\"list is empty\")\n",
    "else:\n",
    "    Head=Head.next"
   ]
  },
  {
   "cell_type": "code",
   "execution_count": 44,
   "id": "5bb73679-7613-40de-89ed-342054d62ee0",
   "metadata": {},
   "outputs": [
    {
     "name": "stdout",
     "output_type": "stream",
     "text": [
      "4 -->\n",
      "4 -->\n",
      "4 -->\n",
      "4 -->\n",
      "4 -->\n",
      "1 -->\n",
      "2 -->\n",
      "3 -->\n",
      "4 -->\n",
      "4 -->\n",
      "5 -->\n",
      "9 -->\n"
     ]
    }
   ],
   "source": [
    "curr=Head\n",
    "\n",
    "while curr!=None:\n",
    "    print(curr.data,\"-->\")\n",
    "    curr=curr.next"
   ]
  },
  {
   "cell_type": "code",
   "execution_count": 48,
   "id": "44c82339-2d35-4674-8b4f-cd6f9786a1ec",
   "metadata": {},
   "outputs": [],
   "source": [
    "#end delete\n",
    "curr=None\n",
    "prev=None\n",
    "if Head==None:\n",
    "    print(\"list is empty\")\n",
    "else:\n",
    "    curr=Head\n",
    "    while(curr.next!=None):\n",
    "           prev=curr\n",
    "           curr=curr.next\n",
    "prev.next=None"
   ]
  },
  {
   "cell_type": "code",
   "execution_count": 49,
   "id": "2f9b91fd-0101-43f3-9258-b71257c502c3",
   "metadata": {},
   "outputs": [
    {
     "name": "stdout",
     "output_type": "stream",
     "text": [
      "4 -->\n",
      "4 -->\n",
      "4 -->\n",
      "4 -->\n",
      "4 -->\n",
      "1 -->\n",
      "2 -->\n",
      "3 -->\n",
      "4 -->\n",
      "4 -->\n",
      "5 -->\n"
     ]
    }
   ],
   "source": [
    "curr=Head\n",
    "while curr!=None:\n",
    "    print(curr.data,\"-->\")\n",
    "    curr=curr.next"
   ]
  },
  {
   "cell_type": "code",
   "execution_count": 56,
   "id": "bcad0e78-3f68-4511-88f2-798e1409d37d",
   "metadata": {},
   "outputs": [
    {
     "name": "stdin",
     "output_type": "stream",
     "text": [
      " 4\n"
     ]
    }
   ],
   "source": [
    "x=int(input())\n",
    "prev=Head\n",
    "curr=Head.next\n",
    "if curr.data==x:\n",
    "    prev.next=curr.next\n",
    "    curr.next=None"
   ]
  },
  {
   "cell_type": "code",
   "execution_count": 57,
   "id": "2e3b1b14-252e-4062-a949-86e75708ea5c",
   "metadata": {},
   "outputs": [
    {
     "name": "stdout",
     "output_type": "stream",
     "text": [
      "4 -->\n",
      "4 -->\n",
      "4 -->\n",
      "4 -->\n",
      "1 -->\n",
      "2 -->\n",
      "3 -->\n",
      "4 -->\n",
      "4 -->\n",
      "5 -->\n"
     ]
    }
   ],
   "source": [
    "curr=Head\n",
    "while curr!=None:\n",
    "    print(curr.data,\"-->\")\n",
    "    curr=curr.next"
   ]
  },
  {
   "cell_type": "code",
   "execution_count": 1,
   "id": "027b7890-870e-4917-bbad-860ccb5f415b",
   "metadata": {},
   "outputs": [
    {
     "name": "stdout",
     "output_type": "stream",
     "text": [
      "1\n",
      "2\n",
      "4\n",
      "5\n",
      "3\n",
      "6\n",
      "7\n"
     ]
    }
   ],
   "source": [
    "class node:\n",
    "    def __init__(self,value):\n",
    "        self.data=value\n",
    "        self.left=None\n",
    "        self.right=None\n",
    "        \n",
    "def preorder (root):\n",
    "    if root==None:\n",
    "        return\n",
    "\n",
    "    print(root.data)\n",
    "    preorder(root.left)\n",
    "    preorder(root.right)\n",
    "\n",
    "\n",
    "root = node(1)\n",
    "root.left= node(2)\n",
    "root.right=node(3)\n",
    "\n",
    "root.left.left = node(4)\n",
    "root.left.right = node(5)\n",
    "\n",
    "root.right.left = node(6)\n",
    "root.right.right = node(7)\n",
    "\n",
    "preorder(root)"
   ]
  },
  {
   "cell_type": "code",
   "execution_count": 2,
   "id": "de047202-9ccd-4838-ae1a-571a540489d1",
   "metadata": {},
   "outputs": [
    {
     "name": "stdout",
     "output_type": "stream",
     "text": [
      "4\n",
      "2\n",
      "5\n",
      "1\n",
      "6\n",
      "3\n",
      "7\n"
     ]
    }
   ],
   "source": [
    "class node:\n",
    "    def __init__(self,value):\n",
    "        self.data=value\n",
    "        self.left=None\n",
    "        self.right=None\n",
    "\n",
    "def inorder(root):\n",
    "    if root==None:\n",
    "        return\n",
    "    inorder(root.left)\n",
    "    print(root.data)\n",
    "    inorder(root.right)\n",
    "\n",
    "root = node(1)\n",
    "root.left= node(2)\n",
    "root.right=node(3)\n",
    "\n",
    "root.left.left = node(4)\n",
    "root.left.right = node(5)\n",
    "\n",
    "root.right.left = node(6)\n",
    "root.right.right = node(7)\n",
    "\n",
    "inorder(root)\n",
    "    "
   ]
  },
  {
   "cell_type": "code",
   "execution_count": 4,
   "id": "eb509015-ed31-4595-b6c8-4d492d3625dd",
   "metadata": {},
   "outputs": [
    {
     "name": "stdout",
     "output_type": "stream",
     "text": [
      "4\n",
      "5\n",
      "2\n",
      "6\n",
      "7\n",
      "3\n",
      "1\n"
     ]
    }
   ],
   "source": [
    "class node:\n",
    "    def __init__(self,value):\n",
    "        self.data=value\n",
    "        self.left=None\n",
    "        self.right=None\n",
    "\n",
    "def postorder(root):\n",
    "    if root==None:\n",
    "        return\n",
    "    postorder(root.left)\n",
    "    postorder(root.right)\n",
    "    print(root.data)\n",
    "\n",
    "root = node(1)\n",
    "root.left= node(2)\n",
    "root.right=node(3)\n",
    "\n",
    "root.left.left = node(4)\n",
    "root.left.right = node(5)\n",
    "\n",
    "root.right.left = node(6)\n",
    "root.right.right = node(7)\n",
    "\n",
    "postorder(root)\n",
    "    \n"
   ]
  },
  {
   "cell_type": "code",
   "execution_count": 4,
   "id": "d947d441-91ee-4c67-9371-07abe37b5fa5",
   "metadata": {},
   "outputs": [
    {
     "name": "stdout",
     "output_type": "stream",
     "text": [
      "level order\n",
      "1 \n",
      "2 3 \n",
      "4 5 6 7 \n"
     ]
    }
   ],
   "source": [
    "class node:\n",
    "    def __init__(self,value):\n",
    "        self.data=value\n",
    "        self.left=None\n",
    "        self.right=None\n",
    "        \n",
    "def levelorder(root):\n",
    "    Q=[root,None]\n",
    "    while Q:\n",
    "        curr = Q.pop(0)\n",
    "        if curr == None:\n",
    "            print()\n",
    "            if Q:\n",
    "                Q.append(curr)\n",
    "\n",
    "        else:\n",
    "            print(curr.data,end=\" \")\n",
    "            if curr.left != None:\n",
    "                      \n",
    "                Q.append(curr.left)\n",
    "\n",
    "            if curr.right!=None:\n",
    "                Q.append(curr.right)\n",
    "\n",
    "root = node(1)\n",
    "root.left= node(2)\n",
    "root.right=node(3)\n",
    "\n",
    "root.left.left = node(4)\n",
    "root.left.right = node(5)\n",
    "\n",
    "root.right.left = node(6)\n",
    "root.right.right = node(7)\n",
    "\n",
    "print(\"level order\")\n",
    "levelorder(root)\n",
    "    \n",
    "\n",
    "\n"
   ]
  },
  {
   "cell_type": "code",
   "execution_count": null,
   "id": "b99c53b3-f84f-4477-b2b7-4a5cf679ed60",
   "metadata": {},
   "outputs": [],
   "source": []
  },
  {
   "cell_type": "code",
   "execution_count": null,
   "id": "fc21c963-9c87-448c-9386-cebeab89631a",
   "metadata": {},
   "outputs": [],
   "source": []
  }
 ],
 "metadata": {
  "kernelspec": {
   "display_name": "Python 3 (ipykernel)",
   "language": "python",
   "name": "python3"
  },
  "language_info": {
   "codemirror_mode": {
    "name": "ipython",
    "version": 3
   },
   "file_extension": ".py",
   "mimetype": "text/x-python",
   "name": "python",
   "nbconvert_exporter": "python",
   "pygments_lexer": "ipython3",
   "version": "3.12.3"
  }
 },
 "nbformat": 4,
 "nbformat_minor": 5
}
