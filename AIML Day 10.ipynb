{
 "cells": [
  {
   "cell_type": "code",
   "execution_count": 3,
   "id": "c51cf866-21a5-451a-882a-5c67c114e1ce",
   "metadata": {},
   "outputs": [
    {
     "name": "stdout",
     "output_type": "stream",
     "text": [
      "2\n",
      "4\n",
      "6\n",
      "8\n",
      "10\n",
      "12\n",
      "14\n",
      "16\n",
      "18\n",
      "20\n"
     ]
    }
   ],
   "source": [
    "for i in range(1,11):\n",
    "   print (i*2)"
   ]
  },
  {
   "cell_type": "code",
   "execution_count": 6,
   "id": "9f400b7b-6e2b-4f86-b0b2-9a9ca2e14d8d",
   "metadata": {},
   "outputs": [
    {
     "name": "stdin",
     "output_type": "stream",
     "text": [
      "enter the number 4\n"
     ]
    },
    {
     "name": "stdout",
     "output_type": "stream",
     "text": [
      "24\n"
     ]
    }
   ],
   "source": [
    "# factorial of a number\n",
    "\n",
    "fact = 1\n",
    "n=int(input(\"enter the number\"))\n",
    "for i in range(n,1,-1):\n",
    "    fact*=i\n",
    "print(fact)\n",
    "    \n",
    "    \n"
   ]
  },
  {
   "cell_type": "code",
   "execution_count": 19,
   "id": "10e2ba09-6861-48b1-b901-125534a4d2d5",
   "metadata": {},
   "outputs": [
    {
     "name": "stdin",
     "output_type": "stream",
     "text": [
      " 7\n"
     ]
    },
    {
     "name": "stdout",
     "output_type": "stream",
     "text": [
      "5040\n"
     ]
    }
   ],
   "source": [
    "#recursive code for factorial of a numbet\n",
    "\n",
    "def fun(i):\n",
    "       if i==1:\n",
    "           return 1\n",
    "       else:\n",
    "           return i*fun(i-1)\n",
    "\n",
    "if __name__==\"__main__\":\n",
    "    n=int(input())\n",
    "    print(fun(n))"
   ]
  },
  {
   "cell_type": "code",
   "execution_count": 22,
   "id": "f8ef54cb-8396-4e67-915c-af1d06e880b3",
   "metadata": {},
   "outputs": [
    {
     "name": "stdin",
     "output_type": "stream",
     "text": [
      " 5\n"
     ]
    },
    {
     "name": "stdout",
     "output_type": "stream",
     "text": [
      "13\n"
     ]
    }
   ],
   "source": [
    " def fab(i):\n",
    "  if i==0:\n",
    "      return 0\n",
    "  elif i==1:\n",
    "      return 1\n",
    "  else:\n",
    "      return fab(i-2)+fab(i-1)\n",
    "\n",
    "if __name__==\"__main__\":\n",
    "    i=int(input())\n",
    "    print(fab(n))\n",
    "   "
   ]
  },
  {
   "cell_type": "code",
   "execution_count": 16,
   "id": "ff83bf2f-7663-4ea8-8329-8a6574be402d",
   "metadata": {},
   "outputs": [
    {
     "name": "stdout",
     "output_type": "stream",
     "text": [
      "[1, 2, 4, 4, 5, 6, 7, 8, 9]\n"
     ]
    }
   ],
   "source": [
    "\n",
    "def findpi(ar,low,high):\n",
    "    pi=ar[high]\n",
    "    j=low-1\n",
    "\n",
    "    for i in range(low,high):\n",
    "        if pi>ar[i]:\n",
    "            j+=1\n",
    "            ar[i],ar[j]=ar[j],ar[i]\n",
    "\n",
    "    ar[high],ar[j+1]=ar[j+1],ar[high]\n",
    "    return j+1\n",
    "\n",
    "def quicksort(ar,low,high):\n",
    "    if low<high:\n",
    "        pi = findpi(ar,low,high)\n",
    "        quicksort(ar,low,pi-1)\n",
    "        quicksort(ar,pi+1,high)\n",
    "\n",
    "\n",
    "ar =[4,5,7,2,4,8,1,9,6]\n",
    "\n",
    "quicksort(ar,0,len(ar)-1)\n",
    "print(ar)\n",
    "\n"
   ]
  },
  {
   "cell_type": "code",
   "execution_count": 14,
   "id": "1826b7db-cd38-45b0-b07d-798d6afd0832",
   "metadata": {},
   "outputs": [
    {
     "name": "stdout",
     "output_type": "stream",
     "text": [
      "A= <__main__.node object at 0x00000224C532ED80>\n",
      "B= <__main__.node object at 0x00000224C5307E90>\n",
      "C= <__main__.node object at 0x00000224C532F470>\n",
      "D= <__main__.node object at 0x00000224C5370530>\n",
      "<__main__.node object at 0x00000224C532ED80> -->\n",
      "<__main__.node object at 0x00000224C5307E90> -->\n",
      "<__main__.node object at 0x00000224C532F470> -->\n",
      "<__main__.node object at 0x00000224C5370530> -->\n"
     ]
    }
   ],
   "source": [
    "#linked list\n",
    "\n",
    "class node:\n",
    "    def __init__(self,data):\n",
    "        self.data=data\n",
    "        self.next=None\n",
    "\n",
    "A=node(\"Apple\")\n",
    "B=node(\"Book\")\n",
    "C=node(\"Cat\")\n",
    "D=node(\"Dog\")\n",
    "\n",
    "head=A\n",
    "head.next=B\n",
    "head.next.next=C\n",
    "head.next.next.next=D\n",
    "\n",
    "print(\"A=\",A)\n",
    "print(\"B=\",B)\n",
    "print(\"C=\",C)\n",
    "print(\"D=\",D)\n",
    "\n",
    "print(head,\"-->\")\n",
    "print(head.next,\"-->\")\n",
    "print(head.next.next,\"-->\")\n",
    "print(head.next.next.next,\"-->\")\n",
    "\n",
    "\n",
    "    "
   ]
  },
  {
   "cell_type": "code",
   "execution_count": 6,
   "id": "d18c14c1-7174-4438-b3b5-2891484b5c7b",
   "metadata": {},
   "outputs": [
    {
     "name": "stdout",
     "output_type": "stream",
     "text": [
      "Node 1 <__main__.node object at 0x00000224C5304F20> 1\n",
      "Node 2 <__main__.node object at 0x00000224C5305010> 2\n",
      "Node 3 <__main__.node object at 0x00000224C5306DE0> 3\n",
      "Node 4 <__main__.node object at 0x00000224C5306DE0> 4\n"
     ]
    }
   ],
   "source": [
    "class node:\n",
    "    def __init__(self,value):\n",
    "        self.data=value\n",
    "        self.next=None\n",
    "\n",
    "head=node(1)\n",
    "head.next=node(2)\n",
    "head.next.next=node(3)\n",
    "head.next.next.next=node(4)\n",
    "\n",
    "print(\"Node 1\",head,head.data)\n",
    "print(\"Node 2\",head.next,head.next.data)\n",
    "print(\"Node 3\",head.next.next.next,head.next.next.data)\n",
    "print(\"Node 4\",head.next.next.next,head.next.next.next.data)"
   ]
  },
  {
   "cell_type": "code",
   "execution_count": null,
   "id": "168af024-4363-459e-8734-5663dbdd0193",
   "metadata": {},
   "outputs": [],
   "source": []
  }
 ],
 "metadata": {
  "kernelspec": {
   "display_name": "Python 3 (ipykernel)",
   "language": "python",
   "name": "python3"
  },
  "language_info": {
   "codemirror_mode": {
    "name": "ipython",
    "version": 3
   },
   "file_extension": ".py",
   "mimetype": "text/x-python",
   "name": "python",
   "nbconvert_exporter": "python",
   "pygments_lexer": "ipython3",
   "version": "3.12.3"
  }
 },
 "nbformat": 4,
 "nbformat_minor": 5
}
