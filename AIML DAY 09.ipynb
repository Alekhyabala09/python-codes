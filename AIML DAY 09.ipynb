{
 "cells": [
  {
   "cell_type": "code",
   "execution_count": 3,
   "id": "e14f365e-574c-4466-84db-1e0fe33dd805",
   "metadata": {},
   "outputs": [
    {
     "name": "stdout",
     "output_type": "stream",
     "text": [
      "item added to string\n",
      "item added to string\n",
      "item added to string\n",
      "['welcome ', 'to', 'moon']\n",
      "moon to welcome  \n"
     ]
    }
   ],
   "source": [
    "#Reverse a string using queue\n",
    "\n",
    "def add(c):\n",
    "    s.append(c)\n",
    "    print(\"item added to string\")\n",
    "\n",
    "def delete():\n",
    "    s.pop()\n",
    "s=[]\n",
    "add(\"welcome \")\n",
    "add(\"to\")\n",
    "add(\"moon\")\n",
    "print(s)\n",
    "a=s.pop()\n",
    "b=s.pop()\n",
    "c=s.pop()\n",
    "print(a+\" \"+b+\" \"+c+\" \")\n"
   ]
  },
  {
   "cell_type": "code",
   "execution_count": 9,
   "id": "de717289-a5d9-4000-b600-d2e20d6ce856",
   "metadata": {},
   "outputs": [
    {
     "name": "stdin",
     "output_type": "stream",
     "text": [
      " i love moon\n"
     ]
    },
    {
     "name": "stdout",
     "output_type": "stream",
     "text": [
      "noom evol i"
     ]
    }
   ],
   "source": [
    "a=input()  # using stack\n",
    "s=[]\n",
    "\n",
    "for e in a:\n",
    "    s.append(e)\n",
    "\n",
    "while len(s)>0:\n",
    "    print(s.pop(),end=\"\")\n",
    "    "
   ]
  },
  {
   "cell_type": "code",
   "execution_count": 8,
   "id": "9a096c4e-b01b-4b55-82b5-b7c8e9eab162",
   "metadata": {},
   "outputs": [
    {
     "name": "stdin",
     "output_type": "stream",
     "text": [
      " i love moon\n"
     ]
    },
    {
     "name": "stdout",
     "output_type": "stream",
     "text": [
      "11\n",
      "n10\n",
      "o9\n",
      "o8\n",
      "m7\n",
      " 6\n",
      "e5\n",
      "v4\n",
      "o3\n",
      "l2\n",
      " 1\n",
      "i"
     ]
    }
   ],
   "source": [
    "a=input()\n",
    "s=[]\n",
    "\n",
    "for e in a:\n",
    "    s.append(e)\n",
    "\n",
    "while len(s)>0:\n",
    "    print(len(s))\n",
    "    print(s.pop(),end=\"\")\n",
    "    "
   ]
  },
  {
   "cell_type": "code",
   "execution_count": null,
   "id": "591e8270-06c6-423e-83c9-d648796319be",
   "metadata": {},
   "outputs": [],
   "source": []
  },
  {
   "cell_type": "code",
   "execution_count": 14,
   "id": "098ad994-0287-424e-aa91-46ebdd5496d7",
   "metadata": {},
   "outputs": [
    {
     "name": "stdin",
     "output_type": "stream",
     "text": [
      " i love moon\n"
     ]
    },
    {
     "name": "stdout",
     "output_type": "stream",
     "text": [
      "moon love i "
     ]
    }
   ],
   "source": [
    "a=input()\n",
    "s=[]\n",
    "\n",
    "for e in a.split():\n",
    "    s.append(e)\n",
    "\n",
    "while len(s)>0:\n",
    "    print(s.pop(),end=\" \")\n",
    "\n"
   ]
  },
  {
   "cell_type": "code",
   "execution_count": null,
   "id": "4216ae3e-a989-4631-b9ba-e97c41fd4d8a",
   "metadata": {},
   "outputs": [],
   "source": [
    "a=input()\n",
    "s=[]\n",
    "for e in a:\n",
    "    if a=='+' or a=='-'or a=='*' or a=='/' or a=='^'\n",
    "       s.append()\n",
    "    elif a=='(' or a=='+' or a==')':\n",
    "       s.pop()\n",
    "    elif a=='(' and a=='*' or a==')':\n",
    "       s.pop()\n",
    "    elif a=='(' and a=='-' or a==')':\n",
    "       s.pop()\n",
    "    elif a=='(' and a=='/' or a==')':\n",
    "       s.pop()\n",
    "    elif a=='(' and a=='^' or ==')':\n",
    "       s.pop()\n"
   ]
  },
  {
   "cell_type": "code",
   "execution_count": 60,
   "id": "290dbf66-0f03-4735-8aea-b909a1f2360f",
   "metadata": {},
   "outputs": [
    {
     "name": "stdin",
     "output_type": "stream",
     "text": [
      " (a+b)*\n"
     ]
    },
    {
     "name": "stdout",
     "output_type": "stream",
     "text": [
      " ab+*\n"
     ]
    }
   ],
   "source": [
    "def prec(e):\n",
    "    if e==\"^\":\n",
    "        return 3\n",
    "    elif e==\"*\" or e==\"/\":\n",
    "        return 2\n",
    "    elif e==\"+\" or e==\"-\":\n",
    "        return 1\n",
    "    else:\n",
    "        return -1\n",
    "\n",
    "def assoc(e):\n",
    "    if e=='^':\n",
    "        return 'R'\n",
    "    else:\n",
    "        return 'L'\n",
    "exp=input()\n",
    "s=[]\n",
    "result=\" \"\n",
    "\n",
    "for e in exp:\n",
    "    if e.isalnum()==True:\n",
    "        result +=e\n",
    "    elif e== '(':\n",
    "        s.append(e)\n",
    "    elif e==')':\n",
    "        while  s[-1] !='(':\n",
    "          result += s.pop()\n",
    "        s.pop()\n",
    "    else:\n",
    "        while s and (prec(e)<prec(s[-1]) or (prec(e)==prec(s[-1]) and assoc(e)=='L')):\n",
    "            result +=s.pop() \n",
    "        s.append(e)\n",
    "while s:\n",
    "            \n",
    "    result += s.pop()\n",
    "print(result)\n",
    "        \n",
    "        \n",
    "            \n",
    "\n"
   ]
  },
  {
   "cell_type": "markdown",
   "id": "294b4745-0485-44a6-8d10-93a6ee91e7db",
   "metadata": {},
   "source": [
    "In a arcade game,there is a king who got spelled by a witch that whenever he eat he have to take care of what is sequence of food intake.\n",
    "if he eats similar food one after other it will cancel out the its effect and total energy was decreased.\n",
    "your task is to determine the total energy of the king after his meal\n",
    "\n",
    "example:\n",
    "[\"apple\",\"dal\",\"chapathi\",\"rice\",\"rice\",\"apple\",\"apple\",\"dal\",\"rice\",\"dal\",\"chapathi\",\"chapathi\"]\n",
    "\n",
    " consider that energy released by each item will be same which is 1 unit\n",
    "\n",
    " so that total energy intake is 6 unit as per above example.\n",
    " [\"apple\",dal\",\"chapati\",\"dal\",\"rice\",\"dal\"]\n",
    "\n",
    " write a code to find the energy stored by the king after have all the food"
   ]
  },
  {
   "cell_type": "code",
   "execution_count": 65,
   "id": "474561b9-d7c5-48a9-b09a-24183d60ef6a",
   "metadata": {},
   "outputs": [
    {
     "name": "stdin",
     "output_type": "stream",
     "text": [
      " a d c r r a a d r d c c\n"
     ]
    },
    {
     "name": "stdout",
     "output_type": "stream",
     "text": [
      "['a', 'd', 'c', 'r', 'r', 'a', 'a', 'd', 'r', 'd', 'c', 'c']\n",
      "6 ['a', 'd', 'c', 'd', 'r', 'd']\n"
     ]
    }
   ],
   "source": [
    "a=[item for item in input().split()]\n",
    "s=[]\n",
    "print(a)\n",
    "for item in a:\n",
    "    if not s:\n",
    "      s.append(item)\n",
    "    elif s[-1] == item:\n",
    "        s.pop()\n",
    "    else:\n",
    "        s.append(item)\n",
    "print(len(s),s)"
   ]
  },
  {
   "cell_type": "code",
   "execution_count": 4,
   "id": "fb8174c1-0b63-419d-a6f9-c076fdbfb3ec",
   "metadata": {},
   "outputs": [
    {
     "name": "stdin",
     "output_type": "stream",
     "text": [
      " ()\n"
     ]
    },
    {
     "name": "stdout",
     "output_type": "stream",
     "text": [
      "invalid string\n"
     ]
    }
   ],
   "source": [
    "a=input()\n",
    "for c in a:\n",
    "    if a=='(' and a==')':\n",
    "        print(\"valid string\")\n",
    "    elif a=='[' and a==']':\n",
    "        print(\"valid string\")\n",
    "    elif a=='{' and a=='}':\n",
    "        print(\"valid string\")\n",
    "else:\n",
    "    print(\"invalid string\")\n"
   ]
  },
  {
   "cell_type": "code",
   "execution_count": 9,
   "id": "78a96411-7184-4a3d-b4be-e4757ca20a45",
   "metadata": {},
   "outputs": [],
   "source": [
    "def is_balanced(s):\n",
    "    stack = []\n",
    "    brackets = {'(': ')', '[': ']', '{': '}'}\n",
    "    \n",
    "    for char in s:\n",
    "        if char in brackets.keys():\n",
    "            stack.append(char)\n",
    "        elif char in brackets.values():\n",
    "            if not stack or brackets[stack.pop()] != char:\n",
    "                return False\n",
    "    \n",
    "    return not stack\n",
    "\n"
   ]
  },
  {
   "cell_type": "code",
   "execution_count": 26,
   "id": "daed86c2-be94-4cf8-9a91-9a81ffaa4adc",
   "metadata": {},
   "outputs": [
    {
     "name": "stdin",
     "output_type": "stream",
     "text": [
      " [alku]\n"
     ]
    },
    {
     "name": "stdout",
     "output_type": "stream",
     "text": [
      "valid\n"
     ]
    }
   ],
   "source": [
    "s=input()\n",
    "s=[]\n",
    "\n",
    "for e in s:\n",
    "    if e =='('or e ==\"{\" or e==\"[\":\n",
    "        s.append(e)\n",
    "    elif e== ')' or e==\"}\" or e==\"]\":\n",
    "        if e == s[-1]:\n",
    "             s.pop()\n",
    "        else:\n",
    "           break;\n",
    "    else:\n",
    "      continue\n",
    "\n",
    "if not s:\n",
    "    print(\"valid\")\n",
    "else:\n",
    "    print(\"invalid\")"
   ]
  },
  {
   "cell_type": "code",
   "execution_count": 12,
   "id": "7007ef33-5b1d-4ac5-a705-57caab0cab41",
   "metadata": {},
   "outputs": [
    {
     "name": "stdin",
     "output_type": "stream",
     "text": [
      " ['['\n"
     ]
    },
    {
     "name": "stdout",
     "output_type": "stream",
     "text": [
      "valid\n"
     ]
    }
   ],
   "source": [
    "s=input()\n",
    "s=[]\n",
    "\n",
    "for e in s:\n",
    "    if e =='('or e ==\"{\" or e==\"[\":\n",
    "        s.append(e)\n",
    "    elif (e ==')' and s[-1]=='(') or (e == '}' and s[-1]=='{') or (e == ']' and s[-1]=='['):  \n",
    "        s.pop()\n",
    "    else:\n",
    "         continue\n",
    "        \n",
    "if not s:\n",
    "    print(\"valid\")\n",
    "else:\n",
    "    print(\"invalid\")"
   ]
  },
  {
   "cell_type": "code",
   "execution_count": null,
   "id": "49716dd4-8fcf-44c7-bf14-e3e6345172b9",
   "metadata": {},
   "outputs": [],
   "source": []
  }
 ],
 "metadata": {
  "kernelspec": {
   "display_name": "Python 3 (ipykernel)",
   "language": "python",
   "name": "python3"
  },
  "language_info": {
   "codemirror_mode": {
    "name": "ipython",
    "version": 3
   },
   "file_extension": ".py",
   "mimetype": "text/x-python",
   "name": "python",
   "nbconvert_exporter": "python",
   "pygments_lexer": "ipython3",
   "version": "3.12.3"
  }
 },
 "nbformat": 4,
 "nbformat_minor": 5
}
