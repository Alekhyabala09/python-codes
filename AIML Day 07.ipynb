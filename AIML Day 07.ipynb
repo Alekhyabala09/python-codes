{
 "cells": [
  {
   "cell_type": "code",
   "execution_count": 10,
   "id": "47cf1417-a43a-46de-a194-6fe1d6034006",
   "metadata": {},
   "outputs": [
    {
     "name": "stdout",
     "output_type": "stream",
     "text": [
      "24\n"
     ]
    }
   ],
   "source": [
    "L=[2,4,6,1,3,7,8,9,2,3,7,1,2,3,8,9,5,4,2,5,8]\n",
    "\n",
    "#find the maximum sum of any 3 consecutive elements of this array\n",
    "\n",
    "max=0\n",
    "for x in range(0,len(L)-2):\n",
    "    sum = L[x]+L[x+1]+L[x+2]\n",
    "    if(max<sum):\n",
    "       max=sum\n",
    "\n",
    "print(max)\n",
    "    "
   ]
  },
  {
   "cell_type": "code",
   "execution_count": 16,
   "id": "40aa2278-e184-4122-9b2f-96ad735b5cf9",
   "metadata": {},
   "outputs": [
    {
     "name": "stdin",
     "output_type": "stream",
     "text": [
      " 2\n"
     ]
    },
    {
     "name": "stdout",
     "output_type": "stream",
     "text": [
      "8\n"
     ]
    }
   ],
   "source": [
    "L=[1,2,3,4,5]\n",
    "n=int(input())\n",
    "max=0\n",
    "for i in range(0,len(L)-2):\n",
    "    sum=L[n]+L[n+1]+L[n-2]\n",
    "    if(max<sum):\n",
    "        max=sum\n",
    "\n",
    "print(max)\n",
    "    \n",
    "    "
   ]
  },
  {
   "cell_type": "code",
   "execution_count": 1,
   "id": "41599b58-ce94-420b-a78c-99d1b8994cdf",
   "metadata": {},
   "outputs": [
    {
     "name": "stdin",
     "output_type": "stream",
     "text": [
      "enter consecutive number: 4\n"
     ]
    },
    {
     "name": "stdout",
     "output_type": "stream",
     "text": [
      "16\n"
     ]
    }
   ],
   "source": [
    "L=[2,4,6,1,3,7,8,9,2,3,7,1,2,3,8,9,5,4,2,5,8]\n",
    "\n",
    "max=0\n",
    "con=int(input(\"enter consecutive number:\"))\n",
    "for x in range(0,len(L)-con):\n",
    "    sum=0\n",
    "    for y in range(0,con):\n",
    "        sum=sum+L[x+y]\n",
    "    if max<sum:\n",
    "\n",
    "        max=sum\n",
    "\n",
    "print(sum)"
   ]
  },
  {
   "cell_type": "code",
   "execution_count": 2,
   "id": "be200545-3906-4e26-8f55-4a0d472b0536",
   "metadata": {},
   "outputs": [
    {
     "name": "stdout",
     "output_type": "stream",
     "text": [
      "[0, 1, 2, 3, 4, 5, 6, 8]\n"
     ]
    }
   ],
   "source": [
    "L=[1,3,4,2,8,5,6,0]\n",
    "y=sorted(L)\n",
    "print(y)"
   ]
  },
  {
   "cell_type": "code",
   "execution_count": 8,
   "id": "ab1e9c15-55cd-4cb5-b6b0-f401ea13144c",
   "metadata": {},
   "outputs": [
    {
     "name": "stdout",
     "output_type": "stream",
     "text": [
      "[1, 2, 3, 4, 5, 6, 7, 8, 9]\n"
     ]
    }
   ],
   "source": [
    "L=[3,5,2,6,7,4,8,1,9]\n",
    "for i in range(0,len(L)):\n",
    "    for j in range(0,len(L)-1):\n",
    "        if L[j]>L[j+1]:\n",
    "            L[j],L[j+1]=L[j+1],L[j]\n",
    "print(L)\n",
    "   "
   ]
  },
  {
   "cell_type": "code",
   "execution_count": 12,
   "id": "a55de6d3-2ef2-440c-8622-c25b4e06b11e",
   "metadata": {},
   "outputs": [
    {
     "name": "stdout",
     "output_type": "stream",
     "text": [
      "[1, 2, 2, 3, 4, 5, 6, 8, 8]\n"
     ]
    }
   ],
   "source": [
    "a=[8,5,2,6,3,4,8,1,2]\n",
    "n=len(a)\n",
    "for i in range(0,n-1):\n",
    "    for j in range(0,n-1-i):\n",
    "        if a[j]>a[j+1]:\n",
    "            temp=a[j]\n",
    "            a[j]=a[j+1]\n",
    "            a[j+1]=temp\n",
    "\n",
    "print(a)\n"
   ]
  },
  {
   "cell_type": "code",
   "execution_count": 13,
   "id": "2a8074f3-7f25-4193-a371-69432bb93921",
   "metadata": {},
   "outputs": [
    {
     "name": "stdout",
     "output_type": "stream",
     "text": [
      "[8, 8, 6, 5, 4, 3, 2, 2, 1]\n"
     ]
    }
   ],
   "source": [
    "a=[8,5,2,6,3,4,8,1,2]\n",
    "n=len(a)\n",
    "for i in range(0,n-1):\n",
    "    for j in range(0,n-1-i):\n",
    "        if a[j]<a[j+1]:\n",
    "            temp=a[j]\n",
    "            a[j]=a[j+1]\n",
    "            a[j+1]=temp\n",
    "\n",
    "print(a)\n"
   ]
  },
  {
   "cell_type": "code",
   "execution_count": null,
   "id": "663a7c27-34ea-45a3-847f-f1cfbfe12975",
   "metadata": {},
   "outputs": [],
   "source": []
  }
 ],
 "metadata": {
  "kernelspec": {
   "display_name": "Python 3 (ipykernel)",
   "language": "python",
   "name": "python3"
  },
  "language_info": {
   "codemirror_mode": {
    "name": "ipython",
    "version": 3
   },
   "file_extension": ".py",
   "mimetype": "text/x-python",
   "name": "python",
   "nbconvert_exporter": "python",
   "pygments_lexer": "ipython3",
   "version": "3.12.3"
  }
 },
 "nbformat": 4,
 "nbformat_minor": 5
}
