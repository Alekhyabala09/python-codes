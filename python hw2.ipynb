{
 "cells": [
  {
   "cell_type": "code",
   "execution_count": 2,
   "id": "ab72d418-0f69-4717-9079-d1c66cdecfb7",
   "metadata": {},
   "outputs": [
    {
     "name": "stdin",
     "output_type": "stream",
     "text": [
      " 35\n"
     ]
    },
    {
     "name": "stdout",
     "output_type": "stream",
     "text": [
      "1.6666666666666667\n"
     ]
    }
   ],
   "source": [
    "#convert a temperature from celsius to farenheit\n",
    "\n",
    "farenheit=float(input())\n",
    "celsius=(farenheit-32)*5/9\n",
    "print(celsius)"
   ]
  },
  {
   "cell_type": "code",
   "execution_count": 5,
   "id": "0d21ab1d-4543-4540-a0f2-e2f2720446fa",
   "metadata": {},
   "outputs": [
    {
     "name": "stdout",
     "output_type": "stream",
     "text": [
      "[6, 5, 9, 2, 3, 8]\n",
      "the sorted list is: [9, 8, 6, 5, 3, 2]\n",
      "the sorted largest number in the given list is: 3\n"
     ]
    }
   ],
   "source": [
    "# find the second largest element in a list\n",
    "\n",
    "a=[6,5,9,2,3,8]\n",
    "print(a)\n",
    "b=[]\n",
    "b=sorted(a,reverse=True)\n",
    "print(\"the sorted list is:\",b)\n",
    "print(\"the sorted largest number in the given list is:\",b[-2])"
   ]
  },
  {
   "cell_type": "code",
   "execution_count": 1,
   "id": "ecf77cbe-69f0-4c57-898c-f02b94286a0b",
   "metadata": {},
   "outputs": [
    {
     "name": "stdout",
     "output_type": "stream",
     "text": [
      "the element 6 occurs 2 times\n"
     ]
    }
   ],
   "source": [
    "# count the occurences of each element in a list\n",
    "\n",
    "a=[4,5,6,7,8,6,4]\n",
    "x=6\n",
    "n=[i for i in a if i==x]\n",
    "print(\"the element\",x,\"occurs\",len(n),\"times\")"
   ]
  },
  {
   "cell_type": "code",
   "execution_count": 13,
   "id": "fbd574c8-ecb4-4e8a-bb68-6d92d2f04d70",
   "metadata": {},
   "outputs": [
    {
     "name": "stdout",
     "output_type": "stream",
     "text": [
      "sum of even numbers 30\n"
     ]
    }
   ],
   "source": [
    "# find the sum of all even numbers in a list\n",
    "\n",
    "numbers=[1,2,3,4,5,6,7,8,9,10]\n",
    "even_sum = sum(num for num in numbers if num % 2 ==0)\n",
    "print(\"sum of even numbers\",even_sum)"
   ]
  },
  {
   "cell_type": "code",
   "execution_count": 22,
   "id": "1557a1b8-f227-4446-85f6-816a30920215",
   "metadata": {},
   "outputs": [
    {
     "name": "stdout",
     "output_type": "stream",
     "text": [
      "The original string is: hello world\n",
      "The reversed string is: dlrow olleh\n"
     ]
    }
   ],
   "source": [
    "#reverse a string\n",
    "\n",
    "def reverse(string):\n",
    "    string=string[::-1]\n",
    "    return string\n",
    "b=\"hello world\"\n",
    "print(\"The original string is:\",end=\" \")\n",
    "print(b)\n",
    "print(\"The reversed string is:\",end=\" \")\n",
    "print(reverse(b))"
   ]
  },
  {
   "cell_type": "code",
   "execution_count": 26,
   "id": "3edd553e-578f-4023-81b6-064cbd846691",
   "metadata": {},
   "outputs": [
    {
     "name": "stdout",
     "output_type": "stream",
     "text": [
      "3\n"
     ]
    }
   ],
   "source": [
    "#to find the number of vowels in a string\n",
    "string=\"alekhya\"\n",
    "vowels=\"aeiouAEIOU\"\n",
    "count=sum(string.count(vowel) for vowel in vowels)\n",
    "print(count)"
   ]
  },
  {
   "cell_type": "code",
   "execution_count": null,
   "id": "b0fa84e7-eca0-4948-a177-1eb33deed5ac",
   "metadata": {},
   "outputs": [],
   "source": []
  },
  {
   "cell_type": "code",
   "execution_count": null,
   "id": "f13b6e29-da6d-4113-b46c-67966a1178bd",
   "metadata": {},
   "outputs": [],
   "source": []
  }
 ],
 "metadata": {
  "kernelspec": {
   "display_name": "Python 3 (ipykernel)",
   "language": "python",
   "name": "python3"
  },
  "language_info": {
   "codemirror_mode": {
    "name": "ipython",
    "version": 3
   },
   "file_extension": ".py",
   "mimetype": "text/x-python",
   "name": "python",
   "nbconvert_exporter": "python",
   "pygments_lexer": "ipython3",
   "version": "3.12.3"
  }
 },
 "nbformat": 4,
 "nbformat_minor": 5
}
