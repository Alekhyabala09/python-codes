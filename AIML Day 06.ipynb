{
 "cells": [
  {
   "cell_type": "code",
   "execution_count": 44,
   "id": "3a366a62-cb6a-4385-8315-a90c13fe3fc6",
   "metadata": {},
   "outputs": [
    {
     "name": "stdout",
     "output_type": "stream",
     "text": [
      "100 audi 5 200 ap132 50000 black\n",
      "ap257 40000 red 200 tata 4\n"
     ]
    }
   ],
   "source": [
    "class vehicle:\n",
    "    def __init__(self,r,p,c,e):\n",
    "        self.reg_plate=r\n",
    "        self.price=p\n",
    "        self.colour=c\n",
    "        self.engine=int(e)\n",
    "\n",
    "    \n",
    "class car(vehicle):\n",
    "    def __init__(self,t,n,m,r,p,c,e):\n",
    "         self.type=t\n",
    "         self.noofpassenger=n\n",
    "         self.max_speed=m\n",
    "         super().__init__(r,p,c,e)\n",
    "\n",
    "class truck(vehicle):\n",
    "    def __init__(self,r,p,c,e,nof,l):\n",
    "           self.noofaxle=nof\n",
    "           self.loadcapacity=l\n",
    "           super().__init__(r,p,c,e)\n",
    "\n",
    "car1=car('ap132','50000','black','100','audi','5','200')\n",
    "truck1=truck('ap257','40000','red','200','tata','4')\n",
    "\n",
    "print(car1.reg_plate,car1.price,car1.colour,car1.engine,car1.type,car1.noofpassenger,car1.max_speed)\n",
    "print(truck1.reg_plate,truck1.price,truck1.colour,truck1.engine,truck1.noofaxle,truck1.loadcapacity)"
   ]
  },
  {
   "cell_type": "code",
   "execution_count": 43,
   "id": "04069503-e795-4dbc-a0ae-dc09fef37a51",
   "metadata": {},
   "outputs": [
    {
     "name": "stdout",
     "output_type": "stream",
     "text": [
      "230 alekhya 80000 hyderabad staff\n",
      "123 ram 50000 developer chennai 5\n"
     ]
    }
   ],
   "source": [
    "class employee:\n",
    "    def __init__(self,ed,en,es):\n",
    "        self.emid=ed\n",
    "        self.ename=en\n",
    "        self.esalary=es\n",
    "\n",
    "class staff(employee):\n",
    "    def __init__(self,ed,en,es,wt,wa):\n",
    "        self.worktype=wt\n",
    "        self.workarea=wa\n",
    "        super().__init__(ed,en,es)\n",
    "\n",
    "class developer(employee):\n",
    "    def __init__(self,ed,en,es,m,t,e):\n",
    "        self.module=m\n",
    "        self.tech=t\n",
    "        self.experience=e\n",
    "        super().__init__(ed,en,es)\n",
    "\n",
    "class manager(employee):\n",
    "    def __init__(self,ed,en,es,p,c):\n",
    "         self.project=p\n",
    "         self.clientname=c\n",
    "         super().__init__(ed,en,es)\n",
    "\n",
    "staff1=staff('230','alekhya','80000','staff','hyderabad')\n",
    "print(staff1.emid,staff1.ename,staff1.esalary,staff1.workarea,staff1.worktype)\n",
    "\n",
    "developer1=developer('123','ram','50000','developer','chennai','5')\n",
    "print(developer1.emid,developer1.ename,developer1.esalary,developer1.module,developer1.tech,developer1.experience)\n",
    "\n"
   ]
  },
  {
   "cell_type": "code",
   "execution_count": 48,
   "id": "f7038e1d-2f95-4821-9d22-af1c1213f490",
   "metadata": {},
   "outputs": [
    {
     "name": "stdin",
     "output_type": "stream",
     "text": [
      " 4\n"
     ]
    },
    {
     "name": "stdout",
     "output_type": "stream",
     "text": [
      "* \n",
      "* * \n",
      "* * * \n",
      "* * * * \n"
     ]
    }
   ],
   "source": [
    "n=int(input())\n",
    "for i in range(0,n):\n",
    "    for j in range(0,i+1):\n",
    "        print(\"*\",end=\" \")\n",
    "    print()"
   ]
  },
  {
   "cell_type": "code",
   "execution_count": 56,
   "id": "68f80ff7-b6aa-4cdb-98ec-f3f8615cb550",
   "metadata": {},
   "outputs": [
    {
     "name": "stdin",
     "output_type": "stream",
     "text": [
      " 4\n"
     ]
    },
    {
     "name": "stdout",
     "output_type": "stream",
     "text": [
      "* * * * * \n",
      "* * * * * \n",
      "* * * * * \n",
      "* * * * * \n"
     ]
    }
   ],
   "source": [
    "n=int(input())\n",
    "for i in range(0,n):\n",
    "    for j in range(0,n+1):\n",
    "        print(\"*\",end=\" \")\n",
    "    print()"
   ]
  },
  {
   "cell_type": "code",
   "execution_count": 60,
   "id": "d823d5a7-1240-4a03-b7d8-2c5a5a446a2e",
   "metadata": {},
   "outputs": [
    {
     "name": "stdin",
     "output_type": "stream",
     "text": [
      " 5\n"
     ]
    },
    {
     "name": "stdout",
     "output_type": "stream",
     "text": [
      "* * * * * \n",
      "* * * * \n",
      "* * * \n",
      "* * \n",
      "* \n"
     ]
    }
   ],
   "source": [
    "n=int(input())\n",
    "for i in range(0,n):\n",
    "    for j in range(i-1,n-1):\n",
    "        print(\"*\",end=\" \")\n",
    "    print()"
   ]
  },
  {
   "cell_type": "code",
   "execution_count": 88,
   "id": "284bef08-e3b4-4621-b36f-7de35d04a5f1",
   "metadata": {},
   "outputs": [
    {
     "name": "stdin",
     "output_type": "stream",
     "text": [
      " 5\n"
     ]
    },
    {
     "name": "stdout",
     "output_type": "stream",
     "text": [
      "* * * * * \n",
      "*       * \n",
      "*       * \n",
      "*       * \n",
      "* * * * * \n"
     ]
    }
   ],
   "source": [
    "n=int(input())\n",
    "for i in range(0,n):\n",
    "    for j in range(0,n):\n",
    "        if(i==(n-1) or j==(n-1) or i==0 or j==0):\n",
    "          print(\"*\",end=\" \")\n",
    "        else:\n",
    "            print(\" \",end=\" \")\n",
    "    print()\n",
    "          \n",
    "        "
   ]
  },
  {
   "cell_type": "code",
   "execution_count": null,
   "id": "2d1daec1-17da-47af-85ba-7e5778992bba",
   "metadata": {},
   "outputs": [],
   "source": [
    "n=int(input())\n",
    "for i in range\n"
   ]
  },
  {
   "cell_type": "code",
   "execution_count": null,
   "id": "c39b8067-b056-4fb8-829c-d5a2deb8e606",
   "metadata": {},
   "outputs": [],
   "source": []
  }
 ],
 "metadata": {
  "kernelspec": {
   "display_name": "Python 3 (ipykernel)",
   "language": "python",
   "name": "python3"
  },
  "language_info": {
   "codemirror_mode": {
    "name": "ipython",
    "version": 3
   },
   "file_extension": ".py",
   "mimetype": "text/x-python",
   "name": "python",
   "nbconvert_exporter": "python",
   "pygments_lexer": "ipython3",
   "version": "3.12.3"
  }
 },
 "nbformat": 4,
 "nbformat_minor": 5
}
