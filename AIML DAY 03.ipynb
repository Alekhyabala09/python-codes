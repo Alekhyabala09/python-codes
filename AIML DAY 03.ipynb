{
 "cells": [
  {
   "cell_type": "code",
   "execution_count": 3,
   "id": "51d04894-8766-4a21-9be6-4d0a28fb68b8",
   "metadata": {},
   "outputs": [
    {
     "name": "stdout",
     "output_type": "stream",
     "text": [
      "1\n",
      "2\n",
      "3\n",
      "4\n",
      "5.6\n"
     ]
    }
   ],
   "source": [
    "y=[1,2,3,4,5.6,8]\n",
    "for a in range(0,5):\n",
    "    print(y[a])"
   ]
  },
  {
   "cell_type": "code",
   "execution_count": 5,
   "id": "dad8a541-9615-48ca-8f50-7ca9fba2f726",
   "metadata": {},
   "outputs": [
    {
     "name": "stdout",
     "output_type": "stream",
     "text": [
      "[1, 2, '*', 3, 8]\n"
     ]
    }
   ],
   "source": [
    "a=[1,2,'*',3,8]\n",
    "print(a)"
   ]
  },
  {
   "cell_type": "markdown",
   "id": "f293fba0-82ea-4888-940e-3cff6174478b",
   "metadata": {},
   "source": [
    "pop to pull out element of the list\n",
    "sort use to sort the list\n",
    "@overload\n",
    "copy is used to return the copy of the list\n",
    "append is used to append object to the end of the list\n",
    "extend i used to extend list by attending the elements by iterable\n",
    "sort is used to sort the list\n",
    "index is uesd to return first index of value raises value error if the value is not present\n",
    "count is used to count the duplicants and return numberof occurences of value\n",
    "insert is used to insert object index\n",
    "remove is used to remove the first occurence of value\n",
    "sort the list in ascending order and return none\n",
    "len(list) it gives the length of the list\n",
    "    "
   ]
  },
  {
   "cell_type": "code",
   "execution_count": 23,
   "id": "3dfeeabe-b3f9-4345-9ff5-2b50946fd06e",
   "metadata": {},
   "outputs": [
    {
     "name": "stdout",
     "output_type": "stream",
     "text": [
      "[1, 2, 3, 4, 5]\n",
      "4\n",
      "[1, 2, 3, 5]\n",
      "[1, 2, 3, 5, 10]\n",
      "2\n",
      "1\n",
      "1\n",
      "[1, 2, 4, 3, 5, 10]\n",
      "[1, 2, 4, 5, 10]\n",
      "[1, 2, 4, 5, 10]\n",
      "[10, 5, 4, 2, 1]\n",
      "5\n"
     ]
    }
   ],
   "source": [
    "a=[1,2,3,4,5]\n",
    "b=a.copy()\n",
    "print(b)\n",
    "\n",
    "c=b.pop(3)\n",
    "print(c)\n",
    "\n",
    "print(b)\n",
    "b.append(10)\n",
    "print(b)\n",
    "\n",
    "\n",
    "print(b.index(3))\n",
    "\n",
    "print(b.count(3))\n",
    "print(b.count(10))\n",
    "\n",
    "b.insert(2,4)\n",
    "print(b)\n",
    "\n",
    "b.remove(3)\n",
    "print(b)\n",
    "\n",
    "b.sort()\n",
    "print(b)\n",
    "b.sort(reverse=True)\n",
    "print(b)\n",
    "\n",
    "print(len(b))\n"
   ]
  },
  {
   "cell_type": "code",
   "execution_count": 24,
   "id": "21c8cfdb-e904-402d-8655-a5801ff7a84d",
   "metadata": {},
   "outputs": [
    {
     "name": "stdout",
     "output_type": "stream",
     "text": [
      "10\n",
      "9\n",
      "7\n",
      "63\n",
      "5\n",
      "3\n",
      "2\n",
      "1\n",
      "11\n",
      "2\n",
      "3\n",
      "42\n",
      "54\n",
      "1\n",
      "2\n",
      "36\n",
      "4\n",
      "5\n"
     ]
    }
   ],
   "source": [
    "a=[10,9,7,63,5,3,2,1,11,2,3,42,54,1,2,36,4,5]\n",
    "for x in a:\n",
    "    print(x)\n"
   ]
  },
  {
   "cell_type": "code",
   "execution_count": 25,
   "id": "f51cd76f-edd4-4b0a-b5b1-cada82c63995",
   "metadata": {},
   "outputs": [
    {
     "name": "stdin",
     "output_type": "stream",
     "text": [
      "Enter the size of list:  4\n",
      " 3\n",
      " 6\n",
      " 9\n",
      " 8\n"
     ]
    }
   ],
   "source": [
    "n=int(input(\"Enter the size of list: \"))\n",
    "for x in range(0,n):\n",
    "    x=input()\n",
    "    a.append(x)"
   ]
  },
  {
   "cell_type": "code",
   "execution_count": 33,
   "id": "fd4bb1bf-ea18-4e18-ba41-7c8b44f8648b",
   "metadata": {},
   "outputs": [
    {
     "name": "stdin",
     "output_type": "stream",
     "text": [
      "Enter the Elements of the list:  4 5 6\n"
     ]
    },
    {
     "name": "stdout",
     "output_type": "stream",
     "text": [
      "[4, 5, 6]\n"
     ]
    }
   ],
   "source": [
    " L = [ int(item) for item in (input(\"Enter the Elements of the list: \").split())]\n",
    "print(L)"
   ]
  },
  {
   "cell_type": "markdown",
   "id": "c4bab2de-b094-4451-9678-0f7e0c497fe9",
   "metadata": {},
   "source": [
    "Tuples"
   ]
  },
  {
   "cell_type": "code",
   "execution_count": 37,
   "id": "c3281aaf-8f35-4389-8cb7-9604a591f95a",
   "metadata": {},
   "outputs": [
    {
     "name": "stdout",
     "output_type": "stream",
     "text": [
      "(1, 2, 3, 4, 5.5, 'Alku')\n",
      "[1, 2, 3, 4, 5.5, 'Alku']\n",
      "(1, 2, 3, 4, 5.5, 'alekhya')\n",
      "5.5\n"
     ]
    }
   ],
   "source": [
    "a=(1,2,3,4,5.5,\"Alku\")\n",
    "print(a)\n",
    "\n",
    "b=list(a)\n",
    "print(b)\n",
    "b[5]=\"alekhya\"\n",
    "\n",
    "a=tuple(b)\n",
    "print(a)\n",
    "print(a[-2])\n",
    "\n",
    "\n"
   ]
  },
  {
   "cell_type": "code",
   "execution_count": 44,
   "id": "5eca907a-5fae-4b27-bab9-fb1cedc5c9c9",
   "metadata": {},
   "outputs": [
    {
     "name": "stdout",
     "output_type": "stream",
     "text": [
      "9\n",
      "8\n",
      "7\n",
      "6\n",
      "5\n",
      "4\n",
      "3\n",
      "2\n",
      "1\n"
     ]
    }
   ],
   "source": [
    "a=(1,2,3,4,5,6,7,8,9)\n",
    "for x in range(-1,-1*(len(a)+1),-1):\n",
    "       print(a[x])\n",
    "       "
   ]
  },
  {
   "cell_type": "code",
   "execution_count": 45,
   "id": "0775c13d-89ee-4a49-bf4a-8f99e043dcdc",
   "metadata": {},
   "outputs": [
    {
     "name": "stdout",
     "output_type": "stream",
     "text": [
      "9\n",
      "8\n",
      "7\n",
      "6\n",
      "5\n",
      "4\n",
      "3\n",
      "2\n",
      "1\n"
     ]
    }
   ],
   "source": [
    "a=(1,2,3,4,5,6,7,8,9)\n",
    "for x in range(0,len(a)):\n",
    "       print(a[-1*(x+1)])\n",
    "       "
   ]
  },
  {
   "cell_type": "markdown",
   "id": "dfba3c00-04f1-4454-bdc7-71e571b2cca1",
   "metadata": {},
   "source": [
    "Dictionary\n",
    "\n",
    "key and values\n",
    "\n",
    "key values pair"
   ]
  },
  {
   "cell_type": "code",
   "execution_count": 49,
   "id": "0f2aca20-99bd-4c9e-b7d9-a9b807071674",
   "metadata": {},
   "outputs": [
    {
     "name": "stdout",
     "output_type": "stream",
     "text": [
      "{1: 'Alku', 2: 'alekhya', 3: 'Alku'}\n",
      "alekhya\n",
      "dict_keys([1, 2, 3])\n",
      "dict_values(['Alku', 'alekhya', 'Alku'])\n",
      "dict_items([(1, 'Alku'), (2, 'alekhya'), (3, 'Alku')])\n",
      "None\n"
     ]
    }
   ],
   "source": [
    "D={1:\"Alku\",2:\"alekhya\",3:\"Alku\"}\n",
    "print(D)\n",
    "\n",
    "print(D[2])\n",
    "print(D.keys())\n",
    "print(D.values())\n",
    "print(D.items())\n",
    "\n",
    "print(D.get(4))"
   ]
  },
  {
   "cell_type": "markdown",
   "id": "6ddee376-161a-4082-b946-6c319b89e0a1",
   "metadata": {},
   "source": [
    "write a program to take key and value input from the user and add to it dictionary if key is not present in dictionary otherwise print key already exists and also find its corresponding value\n",
    "\n",
    "consits of 4 functions\n",
    "key\n",
    "value\n",
    "get\n",
    "item\n",
    "copy\n",
    "\n"
   ]
  },
  {
   "cell_type": "code",
   "execution_count": null,
   "id": "edde7fc2-7b5d-4cbc-8e36-2cdd8d134197",
   "metadata": {},
   "outputs": [],
   "source": [
    "#program\n",
    "key = int(input(\"enter the key value\")\n",
    "value=str(input(\"enter the values\"))\n",
    "if(key==len(value"
   ]
  },
  {
   "cell_type": "code",
   "execution_count": 5,
   "id": "04c6d2d0-00ee-4fab-8da3-acdbe2a9fb96",
   "metadata": {},
   "outputs": [
    {
     "name": "stdin",
     "output_type": "stream",
     "text": [
      " 1\n",
      " 0\n"
     ]
    },
    {
     "name": "stdout",
     "output_type": "stream",
     "text": [
      "we can't divide\n",
      "error handelled\n"
     ]
    }
   ],
   "source": [
    "A=int(input())\n",
    "B=int(input())\n",
    "try:\n",
    "    c=A/B\n",
    "except:\n",
    "    print(\"we can't divide\")\n",
    "else:\n",
    "  print(\"division successfull\")\n",
    "  print(c)\n",
    "finally:\n",
    "  print(\"error handelled\") "
   ]
  },
  {
   "cell_type": "code",
   "execution_count": 31,
   "id": "b7ba8398-e382-4d85-ae8f-9444c0e00a11",
   "metadata": {},
   "outputs": [
    {
     "name": "stdin",
     "output_type": "stream",
     "text": [
      "enter the index:  9\n"
     ]
    },
    {
     "name": "stdout",
     "output_type": "stream",
     "text": [
      "there is no such index\n"
     ]
    }
   ],
   "source": [
    "a=[1,2,3,4,5,6,7,8]\n",
    "b=int(input(\"enter the index: \"))\n",
    "try:\n",
    "     print (a[b])\n",
    "except:\n",
    "   print(\"there is no such index\")\n",
    "\n",
    "            "
   ]
  },
  {
   "cell_type": "code",
   "execution_count": 37,
   "id": "6e343e58-a482-4793-a99e-f0e213a3da40",
   "metadata": {},
   "outputs": [
    {
     "name": "stdin",
     "output_type": "stream",
     "text": [
      " 3\n",
      " HELLO\n"
     ]
    },
    {
     "name": "stdout",
     "output_type": "stream",
     "text": [
      "value unable tO convert\n",
      "Code Execution done\n"
     ]
    }
   ],
   "source": [
    "try:\n",
    "    a=input()\n",
    "    b=input()\n",
    "    c=int(a)/int(b)\n",
    "    x=\"hello\"/3\n",
    "except ValueError:\n",
    "    print(\"value unable to convert\")\n",
    "except ZeroDivisionError:\n",
    "    print(\"can't Divide by zero\")\n",
    "except:\n",
    "    print(\"some unknown Error found\")\n",
    "else:\n",
    "    print(\"no Error\")\n",
    "finally:\n",
    "    print(\"Code Execution done\")"
   ]
  },
  {
   "cell_type": "markdown",
   "id": "c6bbf80b-bdf8-4875-bd2c-8d71efeb4e29",
   "metadata": {},
   "source": [
    "write a python program to find the sum of the all the elements in the list and handle the case if it consists of non numeric value"
   ]
  },
  {
   "cell_type": "markdown",
   "id": "f5da4d05-2458-4918-a25b-66c0f65ebc39",
   "metadata": {},
   "source": [
    "create a dictionary and student names and grade"
   ]
  },
  {
   "cell_type": "code",
   "execution_count": null,
   "id": "f1968c21-38e7-49d5-9a7b-39e550c5db71",
   "metadata": {},
   "outputs": [],
   "source": []
  }
 ],
 "metadata": {
  "kernelspec": {
   "display_name": "Python 3 (ipykernel)",
   "language": "python",
   "name": "python3"
  },
  "language_info": {
   "codemirror_mode": {
    "name": "ipython",
    "version": 3
   },
   "file_extension": ".py",
   "mimetype": "text/x-python",
   "name": "python",
   "nbconvert_exporter": "python",
   "pygments_lexer": "ipython3",
   "version": "3.12.3"
  }
 },
 "nbformat": 4,
 "nbformat_minor": 5
}
