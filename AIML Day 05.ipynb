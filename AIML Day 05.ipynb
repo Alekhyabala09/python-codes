{
 "cells": [
  {
   "cell_type": "markdown",
   "id": "eea002a7-3b0f-4163-a9b5-33084739bbba",
   "metadata": {},
   "source": [
    "oops concept"
   ]
  },
  {
   "cell_type": "code",
   "execution_count": 1,
   "id": "9eea793a-c64a-434f-8894-d1ccecdbc62c",
   "metadata": {},
   "outputs": [
    {
     "name": "stdout",
     "output_type": "stream",
     "text": [
      "<class 'int'>\n"
     ]
    }
   ],
   "source": [
    "a=5\n",
    "print(type(a))"
   ]
  },
  {
   "cell_type": "code",
   "execution_count": 3,
   "id": "fb0aa37c-08c7-4edb-a1fb-e8e532b66a11",
   "metadata": {},
   "outputs": [
    {
     "name": "stdout",
     "output_type": "stream",
     "text": [
      "this laptop have i5 8gb Ram 1TB SSD\n"
     ]
    }
   ],
   "source": [
    "class laptop: \n",
    "    def config(self):\n",
    "        print(\"this laptop have i5 8gb Ram 1TB SSD\")\n",
    "\n",
    "hp = laptop()\n",
    "\n",
    "hp.config()"
   ]
  },
  {
   "cell_type": "code",
   "execution_count": 31,
   "id": "1e69968a-85ee-4815-9d0e-5379895ea1d9",
   "metadata": {},
   "outputs": [
    {
     "name": "stdout",
     "output_type": "stream",
     "text": [
      "Configuration of the laptop is: \n",
      "Processor i5\n",
      "Ram 8\n",
      "Storage 512\n"
     ]
    }
   ],
   "source": [
    "#craete a laptop class with variable as processor,Ram and storage\n",
    "class laptop:\n",
    "    def __init__(self,p,r,s):\n",
    "        self.processor=p\n",
    "        self.ram=r\n",
    "        self.storage=s\n",
    "\n",
    "    def config(self):\n",
    "          print(\"Configuration of the laptop is: \")\n",
    "          print(\"Processor\",self.processor)\n",
    "          print(\"Ram\",self.ram)\n",
    "          print(\"Storage\",self.storage)\n",
    "\n",
    "           \n",
    "if __name__==\"__main__\":\n",
    "    hp = laptop(\"i5\",8,512)\n",
    "    hp.config()\n",
    "\n",
    "#create function to print the configuration of the laptops.\n",
    "\n",
    "#create 3 object of laptop with different brand and display its configuration."
   ]
  },
  {
   "cell_type": "code",
   "execution_count": 3,
   "id": "79332eb6-eccd-4bcc-8c6b-1d06e2cf9d84",
   "metadata": {},
   "outputs": [
    {
     "name": "stdout",
     "output_type": "stream",
     "text": [
      "1\n",
      "2\n",
      "3\n",
      "public variable: 1\n",
      "protected variable: 2\n"
     ]
    }
   ],
   "source": [
    "#acceess modifiers\n",
    "#public normal\n",
    "#protected_\n",
    "#private__\n",
    "\n",
    "class demo:\n",
    "    def __init__(self,a,b,c):\n",
    "        self.x=a\n",
    "        self._y=b\n",
    "        self.__z=c\n",
    "    def output_Z(self):\n",
    "        print(self.__z)\n",
    "    def output_X(self):\n",
    "        print(self.x)\n",
    "    def output_Y(self):\n",
    "        print(self._y)\n",
    "\n",
    "ob1=demo(1,2,3)\n",
    "ob1.output_X()\n",
    "ob1.output_Y()\n",
    "ob1.output_Z()\n",
    "\n",
    "print(\"public variable:\",ob1.x)\n",
    "print(\"protected variable:\",ob1._y)\n",
    "        "
   ]
  },
  {
   "cell_type": "code",
   "execution_count": 8,
   "id": "adca0e83-6b27-43e1-9f9a-c05b66ff86b3",
   "metadata": {},
   "outputs": [
    {
     "name": "stdout",
     "output_type": "stream",
     "text": [
      "this is fun1\n",
      "this is fun2\n",
      "this is fun3\n",
      "this is fun4\n"
     ]
    }
   ],
   "source": [
    "class a:\n",
    "    def fun1(self):\n",
    "      print(\"this is fun1\")\n",
    "    def fun2(self):\n",
    "        print(\"this is fun2\")\n",
    "\n",
    "class b:\n",
    "    def fun3(self):\n",
    "      print(\"this is fun3\")\n",
    "    def fun4(self):\n",
    "      print(\"this is fun4\")\n",
    "\n",
    "class c:\n",
    "    def fun5(self):\n",
    "        print(\"this is fun5\")\n",
    "    def fun6(self):\n",
    "        print(\"this is fun6\")\n",
    "\n",
    "if __name__==\"__main__\":\n",
    "    ob1=a()\n",
    "    ob2=b()\n",
    "\n",
    "    ob1.fun1()\n",
    "    ob1.fun2()\n",
    "    ob2.fun3()\n",
    "    ob2.fun4()\n",
    "    \n",
    "    "
   ]
  },
  {
   "cell_type": "code",
   "execution_count": 15,
   "id": "8f0ff533-dd8c-44bb-b268-6328f673404f",
   "metadata": {},
   "outputs": [
    {
     "name": "stdout",
     "output_type": "stream",
     "text": [
      "constructor of class D\n"
     ]
    }
   ],
   "source": [
    "class a:\n",
    "    def __init__(self):\n",
    "        print(\"constructor of class A\")\n",
    "class b(a):\n",
    "    def __init__(self):\n",
    "        print(\"constructor of class B\")\n",
    "\n",
    "class c:\n",
    "    def __init__(self):\n",
    "        print(\"constructor of class C\")\n",
    "class d:\n",
    "    print(\"constructor of class D\")\n",
    "\n",
    "\n",
    "if __name__==\"__main__\":\n",
    "    ob1=d()\n",
    "        "
   ]
  },
  {
   "cell_type": "code",
   "execution_count": 24,
   "id": "43c75b37-f0c3-4bf9-bc0e-c51257b268b2",
   "metadata": {},
   "outputs": [
    {
     "name": "stdout",
     "output_type": "stream",
     "text": [
      "constructor of class c\n",
      "fun class c with self 1 5\n",
      "fun class c with self 1 2\n"
     ]
    }
   ],
   "source": [
    "class c:\n",
    "    def __init__(self):\n",
    "        print(\"constructor of class c\")\n",
    "    def abc(self,a,b=5):\n",
    "         print(\"fun class c with self\",a,b)\n",
    "ob=c()\n",
    "ob.abc(1)\n",
    "ob.abc(1,2)"
   ]
  },
  {
   "cell_type": "code",
   "execution_count": 19,
   "id": "cb399b13-6c7e-4823-8614-6d743d060f5b",
   "metadata": {},
   "outputs": [
    {
     "name": "stdout",
     "output_type": "stream",
     "text": [
      "constructor of class c\n",
      "20 10\n"
     ]
    }
   ],
   "source": [
    "#overloading\n",
    "class c:\n",
    "    def __init__(self,a=20,b=10):\n",
    "        print(\"constructor of class c\")\n",
    "        self.x=a\n",
    "        self.y=b\n",
    "        print(self.x,self.y)\n",
    "ob=c()\n"
   ]
  },
  {
   "cell_type": "code",
   "execution_count": 42,
   "id": "b3cbeb91-d0da-4d62-ad34-620df3d49167",
   "metadata": {},
   "outputs": [
    {
     "name": "stdout",
     "output_type": "stream",
     "text": [
      "prof laptop having i5 8 512 6hrs\n",
      "gaming laptop having 2 6hrs i5 8 345\n"
     ]
    }
   ],
   "source": [
    "class laptop:  #super class\n",
    "    def __init__(self,p,r,s):\n",
    "        self.processor=p\n",
    "        self.ram=r\n",
    "        self.storage=s\n",
    "\n",
    "\n",
    "class prof_laptop(laptop):\n",
    "    def __init__(self,bat,p,r,s):\n",
    "        self.battery=bat\n",
    "        super().__init__(p,r,s)\n",
    "\n",
    "class gaming( prof_laptop):\n",
    "    def __init__(self,bat,graph,p,r,s):\n",
    "        self.grapic=graph\n",
    "        super().__init__(p,r,s,bat)\n",
    "\n",
    "pro1=prof_laptop('6hrs','i5','8','512')\n",
    "gam1=gaming('i5','8','345','2','6hrs')\n",
    "\n",
    "print(\"prof laptop having\",\n",
    "      pro1.processor,pro1.ram,\n",
    "      pro1.storage,pro1.battery)\n",
    "\n",
    "print(\"gaming laptop having\",\n",
    "      gam1.processor,gam1.ram,\n",
    "      gam1.storage,gam1.grapic,gam1.battery)\n",
    "              "
   ]
  },
  {
   "cell_type": "code",
   "execution_count": 46,
   "id": "c1561ffc-81ae-4ee3-bc4a-e472d18782c5",
   "metadata": {},
   "outputs": [
    {
     "name": "stdout",
     "output_type": "stream",
     "text": [
      "Ticket booked Fare Price will be:  6550\n"
     ]
    }
   ],
   "source": [
    "class ticket:\n",
    "   \n",
    "    def __init__(self,D):\n",
    "        self.distance = int(D)\n",
    "        self.farePrice = None\n",
    "\n",
    "class gen(ticket):\n",
    "    def __init__(self,D):\n",
    "        super().__init__(D)\n",
    "    def print_ticket(self):\n",
    "        self.farePrice=50+(self.distance*2)\n",
    "        return self.farePrice\n",
    "        \n",
    "\n",
    "\n",
    "class slp(gen):\n",
    "    def __init__(self,D):\n",
    "        super().__init__(D)\n",
    "\n",
    "    def print_ticket(self):\n",
    "        self.farePrice=super().print_ticket()+(2*self.distance)\n",
    "        return self.farePrice\n",
    "\n",
    "class AC(slp):\n",
    "    def __init__(self,D):\n",
    "        super().__init__(D)\n",
    "    def print_ticket(self):\n",
    "        self.farePrice=super().print_ticket()+(4*self.distance)\n",
    "        return self.farePrice\n",
    "\n",
    "class FC(AC):\n",
    "    def __init__(self,D):\n",
    "        super().__init__(D)\n",
    "    def print_ticket(self):\n",
    "        self.farePrice=super().print_ticket()+(5*self.distance)\n",
    "        return self.farePrice\n",
    "\n",
    "jur = FC(500)\n",
    "print(\"Ticket booked Fare Price will be: \",jur.print_ticket())"
   ]
  },
  {
   "cell_type": "code",
   "execution_count": null,
   "id": "aa67581b-c048-4340-814f-336a2cee3400",
   "metadata": {},
   "outputs": [],
   "source": []
  }
 ],
 "metadata": {
  "kernelspec": {
   "display_name": "Python 3 (ipykernel)",
   "language": "python",
   "name": "python3"
  },
  "language_info": {
   "codemirror_mode": {
    "name": "ipython",
    "version": 3
   },
   "file_extension": ".py",
   "mimetype": "text/x-python",
   "name": "python",
   "nbconvert_exporter": "python",
   "pygments_lexer": "ipython3",
   "version": "3.12.3"
  }
 },
 "nbformat": 4,
 "nbformat_minor": 5
}
